{
 "cells": [
  {
   "cell_type": "code",
   "execution_count": 18,
   "metadata": {},
   "outputs": [],
   "source": [
    "import sys\n",
    "import requests\n",
    "from bs4 import BeautifulSoup\n",
    "import time\n",
    "import random\n",
    "from fake_useragent import UserAgent\n",
    "import os\n",
    "import numpy as np\n",
    "import pandas as pd\n",
    "import matplotlib.pyplot as plt\n",
    "from selenium import webdriver\n",
    "from selenium.webdriver.common.keys import Keys\n",
    "from selenium.webdriver.common.by import By\n",
    "import re\n",
    "import time\n",
    "import seaborn as sns\n",
    "%matplotlib inline\n",
    "import pickle\n",
    "import statsmodels.api as sm\n",
    "from sklearn.model_selection import train_test_split\n",
    "from sklearn.linear_model import LinearRegression, Lasso, LassoCV, Ridge, RidgeCV, lars_path\n",
    "from sklearn.metrics import r2_score,mean_squared_error\n",
    "from sklearn.model_selection import cross_val_score\n",
    "from sklearn.preprocessing import StandardScaler, PolynomialFeatures\n",
    "from sklearn.svm import LinearSVC\n",
    "from sklearn.model_selection import KFold\n",
    "import math\n",
    "from scipy.stats import boxcox\n",
    "import matplotlib.style as style\n",
    "import seaborn as sns\n",
    "from sklearn import metrics"
   ]
  },
  {
   "cell_type": "code",
   "execution_count": null,
   "metadata": {},
   "outputs": [],
   "source": [
    "from dataframe_cleaning import split_dataframe_by_position\n",
    "from espn_scraping_cleaning import ESPN_FF_Table\n",
    "from sports_ref_scraping_cleaning import sports_ref_stat_scrape,sports_ref_cleaning\n",
    "from sports_ref_scraping_cleaning import scrape_2015_Fantasy_Points_Sports_Ref,sports_ref_cleaning_2018\n",
    "from regression_testing import linear_regression_avg,find_lambda,lambda_tester,Lasso_Reg\n",
    "from regression_testing import regression_avg\n",
    "from graphing_functions import heatMap\n",
    "from dataframe_cleaning import log_function,log_function_shift\n",
    "\n"
   ]
  },
  {
   "cell_type": "markdown",
   "metadata": {},
   "source": [
    "# Initial Data Scraping And Cleaning"
   ]
  },
  {
   "cell_type": "markdown",
   "metadata": {},
   "source": [
    "## ESPN"
   ]
  },
  {
   "cell_type": "code",
   "execution_count": 4,
   "metadata": {},
   "outputs": [
    {
     "data": {
      "text/plain": [
       "selenium.webdriver.chrome.webdriver.WebDriver"
      ]
     },
     "execution_count": 4,
     "metadata": {},
     "output_type": "execute_result"
    }
   ],
   "source": [
    "chromedriver = \"/Applications/chromedriver\"\n",
    "os.environ[\"webdriver.chrome.driver\"] = chromedriver\n",
    "driver = webdriver.Chrome(chromedriver)"
   ]
  },
  {
   "cell_type": "code",
   "execution_count": 14,
   "metadata": {},
   "outputs": [],
   "source": [
    "url_2018=\"http://games.espn.com/ffl/leaders?&slotCategoryId=\"\n",
    "url_2017=\"http://games.espn.com/ffl/leaders?&seasonTotals=true&seasonId=2017&slotCategoryId=\"\n",
    "url_list=[url_2018,url_2017]"
   ]
  },
  {
   "cell_type": "code",
   "execution_count": null,
   "metadata": {},
   "outputs": [],
   "source": [
    "df_ESPN=ESPN_FF_Table(url_list)"
   ]
  },
  {
   "cell_type": "code",
   "execution_count": 453,
   "metadata": {},
   "outputs": [
    {
     "data": {
      "text/html": [
       "<div>\n",
       "<style scoped>\n",
       "    .dataframe tbody tr th:only-of-type {\n",
       "        vertical-align: middle;\n",
       "    }\n",
       "\n",
       "    .dataframe tbody tr th {\n",
       "        vertical-align: top;\n",
       "    }\n",
       "\n",
       "    .dataframe thead th {\n",
       "        text-align: right;\n",
       "    }\n",
       "</style>\n",
       "<table border=\"1\" class=\"dataframe\">\n",
       "  <thead>\n",
       "    <tr style=\"text-align: right;\">\n",
       "      <th></th>\n",
       "      <th>PTS</th>\n",
       "      <th>PLAYER_NAME</th>\n",
       "      <th>POS</th>\n",
       "    </tr>\n",
       "  </thead>\n",
       "  <tbody>\n",
       "    <tr>\n",
       "      <th>1</th>\n",
       "      <td>385.8</td>\n",
       "      <td>saquonbarkley18</td>\n",
       "      <td>RB</td>\n",
       "    </tr>\n",
       "    <tr>\n",
       "      <th>2</th>\n",
       "      <td>385.5</td>\n",
       "      <td>christianmccaffrey18</td>\n",
       "      <td>RB</td>\n",
       "    </tr>\n",
       "    <tr>\n",
       "      <th>3</th>\n",
       "      <td>372.1</td>\n",
       "      <td>toddgurley18</td>\n",
       "      <td>RB</td>\n",
       "    </tr>\n",
       "    <tr>\n",
       "      <th>4</th>\n",
       "      <td>354.2</td>\n",
       "      <td>alvinkamara18</td>\n",
       "      <td>RB</td>\n",
       "    </tr>\n",
       "    <tr>\n",
       "      <th>5</th>\n",
       "      <td>329.1</td>\n",
       "      <td>ezekielelliott18</td>\n",
       "      <td>RB</td>\n",
       "    </tr>\n",
       "  </tbody>\n",
       "</table>\n",
       "</div>"
      ],
      "text/plain": [
       "0    PTS           PLAYER_NAME POS\n",
       "1  385.8       saquonbarkley18  RB\n",
       "2  385.5  christianmccaffrey18  RB\n",
       "3  372.1          toddgurley18  RB\n",
       "4  354.2         alvinkamara18  RB\n",
       "5  329.1      ezekielelliott18  RB"
      ]
     },
     "execution_count": 453,
     "metadata": {},
     "output_type": "execute_result"
    }
   ],
   "source": [
    "df_ESPN.head()"
   ]
  },
  {
   "cell_type": "markdown",
   "metadata": {},
   "source": [
    "## Pro Football Reference (Sports Reference)"
   ]
  },
  {
   "cell_type": "markdown",
   "metadata": {},
   "source": [
    "### Stats Scraping"
   ]
  },
  {
   "cell_type": "code",
   "execution_count": 294,
   "metadata": {},
   "outputs": [],
   "source": [
    "url18=[\"https://www.pro-football-reference.com/years/2017/rushing.htm\",\"https://www.pro-football-reference.com/years/2017/receiving.htm\"]\n",
    "url17=[\"https://www.pro-football-reference.com/years/2016/rushing.htm\",\"https://www.pro-football-reference.com/years/2016/receiving.htm\"]\n",
    "url16=[\"https://www.pro-football-reference.com/years/2015/rushing.htm\",\"https://www.pro-football-reference.com/years/2015/receiving.htm\"]\n",
    "urlList=[url18,url17,url16]\n"
   ]
  },
  {
   "cell_type": "code",
   "execution_count": 482,
   "metadata": {},
   "outputs": [
    {
     "name": "stderr",
     "output_type": "stream",
     "text": [
      "/anaconda3/lib/python3.7/site-packages/ipykernel_launcher.py:13: SettingWithCopyWarning: \n",
      "A value is trying to be set on a copy of a slice from a DataFrame.\n",
      "Try using .loc[row_indexer,col_indexer] = value instead\n",
      "\n",
      "See the caveats in the documentation: http://pandas.pydata.org/pandas-docs/stable/indexing.html#indexing-view-versus-copy\n",
      "  del sys.path[0]\n"
     ]
    }
   ],
   "source": [
    "df_rush,df_rec=sports_ref_stat_scrape(urlList)\n",
    "df_sports_ref=sports_ref_cleaning(df_rush,df_rec)"
   ]
  },
  {
   "cell_type": "code",
   "execution_count": 483,
   "metadata": {},
   "outputs": [
    {
     "data": {
      "text/plain": [
       "Index(['Player', 'Tgt', 'Rec', 'Ctch%', 'Yds_Rec', 'Y/R', 'TD_Rec', 'Lng_Rec',\n",
       "       'R/G', 'Y/G_Rec', 'Fmb_Rec', 'Age_Rush', 'Pos_Rush', 'G_Rush',\n",
       "       'GS_Rush', 'Att', 'Yds_Rush', 'TD_Rush', 'Lng_Rush', 'Y/A', 'Y/G_Rush'],\n",
       "      dtype='object')"
      ]
     },
     "execution_count": 483,
     "metadata": {},
     "output_type": "execute_result"
    }
   ],
   "source": [
    "df_sports_ref.columns"
   ]
  },
  {
   "cell_type": "markdown",
   "metadata": {},
   "source": [
    "### Fantasy Points Scraping (For 2015 data)"
   ]
  },
  {
   "cell_type": "code",
   "execution_count": 510,
   "metadata": {},
   "outputs": [],
   "source": [
    "url=\"https://www.pro-football-reference.com/years/2016/fantasy.htm\"\n",
    "Play_Stat_Regex=re.compile(\"sortable stats_table\")"
   ]
  },
  {
   "cell_type": "code",
   "execution_count": 511,
   "metadata": {},
   "outputs": [],
   "source": [
    "df_sports_ref_fp_15=scrape_2015_Fantasy_Points_Sports_Ref(url)"
   ]
  },
  {
   "cell_type": "markdown",
   "metadata": {},
   "source": [
    "### Pull in 2018 Stats for Predictions"
   ]
  },
  {
   "cell_type": "code",
   "execution_count": 106,
   "metadata": {},
   "outputs": [],
   "source": [
    "url=[\"https://www.pro-football-reference.com/years/2018/rushing.htm\",\"https://www.pro-football-reference.com/years/2018/receiving.htm\"]\n",
    "Play_Stat_Regex=re.compile(\"sortable stats_table\")\n"
   ]
  },
  {
   "cell_type": "code",
   "execution_count": null,
   "metadata": {},
   "outputs": [],
   "source": [
    "df_sports_ref_combined_18=sports_ref_cleaning_2018(url,Play_Stat_Regex)"
   ]
  },
  {
   "cell_type": "code",
   "execution_count": null,
   "metadata": {},
   "outputs": [],
   "source": [
    "df_rb_18, df_wr_18 = split_dataframe_by_position(df_sports_ref_combined_18)"
   ]
  },
  {
   "cell_type": "markdown",
   "metadata": {},
   "source": [
    "# Merging Data"
   ]
  },
  {
   "cell_type": "markdown",
   "metadata": {},
   "source": [
    "## Merge Different Year's Fantasy Points Into Final DataFrame"
   ]
  },
  {
   "cell_type": "code",
   "execution_count": 515,
   "metadata": {},
   "outputs": [],
   "source": [
    "complete_df_FP=df_ESPN.merge(df_sports_ref_fp_15,how='outer',left_on=['PLAYER_NAME', 'PTS', 'POS'],right_on=['PLAYER_NAME', 'PTS', 'POS'])\n",
    "complete_df_FP.drop_duplicates(subset='PLAYER_NAME',keep='first',inplace=True)\n"
   ]
  },
  {
   "cell_type": "markdown",
   "metadata": {},
   "source": [
    "## Merge Statistics with Fantasy Points"
   ]
  },
  {
   "cell_type": "code",
   "execution_count": 577,
   "metadata": {},
   "outputs": [],
   "source": [
    "from dataframe_cleaning import set_pos_if_null\n",
    "from dataframe_cleaning import convert_series_to_float"
   ]
  },
  {
   "cell_type": "code",
   "execution_count": 592,
   "metadata": {},
   "outputs": [],
   "source": [
    "final_df = complete_df_FP.merge(df_sports_ref,\n",
    "                                how='outer',left_on='PLAYER_NAME',right_on='Player')"
   ]
  },
  {
   "cell_type": "markdown",
   "metadata": {},
   "source": [
    "## Clean Final Merged DataFrame"
   ]
  },
  {
   "cell_type": "code",
   "execution_count": 102,
   "metadata": {},
   "outputs": [],
   "source": [
    "final_df.dropna(axis=0,how='any',subset=['PTS'],inplace=True)\n",
    "final_df['POS']=final_df.apply(lambda x: set_pos_if_null(x),axis=1)\n",
    "convert_series_to_float(final_df)\n",
    "temp_POS_column=final_df['POS']\n",
    "final_df=final_df.select_dtypes(exclude =['object']).copy()\n",
    "final_df['POS']=temp_POS_column\n",
    "final_df.dropna(thresh=5,inplace=True)\n",
    "final_df.fillna(0,inplace=True)"
   ]
  },
  {
   "cell_type": "markdown",
   "metadata": {},
   "source": [
    "# Split Data Into WR Data and RB Data"
   ]
  },
  {
   "cell_type": "code",
   "execution_count": 607,
   "metadata": {},
   "outputs": [],
   "source": [
    "df_rb=final_df[final_df['POS'].str[:2].str.lower()=='rb']\n",
    "df_wr=final_df[final_df['POS'].str[:2].str.lower()=='wr']"
   ]
  },
  {
   "cell_type": "code",
   "execution_count": 51,
   "metadata": {},
   "outputs": [],
   "source": [
    "maskrb=(df_rb['PTS']>0) |\\\n",
    "           (df_rb['Yds_Rush']>100) |\\\n",
    "          (df_rb['Yds_Rec']>100)\n",
    "maskwr=(df_wr['PTS']>0) |\\\n",
    "           (df_wr['Yds_Rush']>100) |\\\n",
    "          (df_wr['Yds_Rec']>100)"
   ]
  },
  {
   "cell_type": "code",
   "execution_count": 52,
   "metadata": {},
   "outputs": [],
   "source": [
    "df_rb=df_rb[maskrb]\n",
    "df_wr=df_wr[maskwr]"
   ]
  },
  {
   "cell_type": "code",
   "execution_count": 616,
   "metadata": {},
   "outputs": [],
   "source": [
    "df_rb=df_rb.reset_index(drop=True)\n",
    "df_wr=df_wr.reset_index(drop=True)"
   ]
  },
  {
   "cell_type": "code",
   "execution_count": 631,
   "metadata": {},
   "outputs": [],
   "source": [
    "df_rb=df_rb.select_dtypes(exclude =['object']).copy()\n",
    "df_wr=df_wr.select_dtypes(exclude =['object']).copy()"
   ]
  },
  {
   "cell_type": "markdown",
   "metadata": {},
   "source": [
    "# Correlation Check For Variables"
   ]
  },
  {
   "cell_type": "code",
   "execution_count": 635,
   "metadata": {},
   "outputs": [
    {
     "data": {
      "image/png": "[encoded data removed]",
      "text/plain": [
       "<Figure size 1440x1440 with 2 Axes>"
      ]
     },
     "metadata": {
      "needs_background": "light"
     },
     "output_type": "display_data"
    }
   ],
   "source": [
    "heatMap(df_rb)"
   ]
  },
  {
   "cell_type": "code",
   "execution_count": 636,
   "metadata": {
    "scrolled": true
   },
   "outputs": [
    {
     "data": {
      "image/png": "[encoded data removed]",
      "text/plain": [
       "<Figure size 1440x1440 with 2 Axes>"
      ]
     },
     "metadata": {
      "needs_background": "light"
     },
     "output_type": "display_data"
    }
   ],
   "source": [
    "heatMap(df_wr)"
   ]
  },
  {
   "cell_type": "markdown",
   "metadata": {},
   "source": [
    "# Simple Model Setup And Analysis"
   ]
  },
  {
   "cell_type": "markdown",
   "metadata": {},
   "source": [
    "## Running Back Data"
   ]
  },
  {
   "cell_type": "code",
   "execution_count": 642,
   "metadata": {},
   "outputs": [
    {
     "name": "stdout",
     "output_type": "stream",
     "text": [
      "Train Val Scores: 0.4014369481576995\n",
      "Train Test Scores: 0.24918237187465825\n",
      "Test Scores: 0.3604832165331594\n",
      "0.002665740376969659:Tgt\n",
      "-0.3807254757010979:Rec\n",
      "-27.373751529628855:Ctch%\n",
      "0.00023235069606944013:Yds_Rec\n",
      "-0.3616650433241955:Y/R\n",
      "8.935783857568733:TD_Rec\n",
      "-0.17087987888762476:Lng_Rec\n",
      "12.003396257165976:R/G\n",
      "0.46280359962495304:Y/G_Rec\n",
      "-2.835109205307399:Fmb_Rec\n",
      "-4.758427129241634:Age_Rush\n",
      "4.686871719438207:G_Rush\n",
      "-0.6958582056741042:GS_Rush\n",
      "0.13879638483014678:Att\n",
      "-0.038384822602201676:Yds_Rush\n",
      "-0.843409117366355:TD_Rush\n",
      "-0.3604071201931983:Lng_Rush\n",
      "3.254231612527901:Y/A\n",
      "1.9814696937304512:Y/G_Rush\n"
     ]
    }
   ],
   "source": [
    "df_rb_lm_model=linear_regression_avg(df_rb,'PTS',None,None,True,True)"
   ]
  },
  {
   "cell_type": "code",
   "execution_count": 19,
   "metadata": {},
   "outputs": [
    {
     "name": "stdout",
     "output_type": "stream",
     "text": [
      "Train Val Scores: 0.0\n",
      "Train Test Scores: -0.0072898734072115\n",
      "Test Scores: -0.062262499940562765\n",
      "0.0:Tgt\n",
      "0.0:Rec\n",
      "0.0:Ctch%\n",
      "0.0:Yds_Rec\n",
      "0.0:Y/R\n",
      "0.0:TD_Rec\n",
      "0.0:Lng_Rec\n",
      "0.0:R/G\n",
      "0.0:Y/G_Rec\n",
      "0.0:Fmb_Rec\n",
      "-0.0:Age_Rush\n",
      "0.0:G_Rush\n",
      "0.0:GS_Rush\n",
      "0.0:Att\n",
      "0.0:Yds_Rush\n",
      "0.0:TD_Rush\n",
      "0.0:Lng_Rush\n",
      "0.0:Y/A\n",
      "0.0:Y/G_Rush\n"
     ]
    }
   ],
   "source": [
    "df_rb_lasso_model=linear_regression_avg(df_rb,'PTS',\"lasso\",68,True,True)"
   ]
  },
  {
   "cell_type": "code",
   "execution_count": 691,
   "metadata": {},
   "outputs": [
    {
     "name": "stdout",
     "output_type": "stream",
     "text": [
      "Lambda: 1.92\n",
      "Train Val Scores: 0.4177036146821913\n",
      "Train Test Scores: 0.276108225940462\n",
      "Test Scores: 0.26484168906614103\n",
      "0.1980818498511598:Tgt\n",
      "-13.67619122160247:Rec\n",
      "-8.279208705057089:Ctch%\n",
      "0.7668686290548222:Yds_Rec\n",
      "-0.7344672306258188:Y/R\n",
      "16.035994187542364:TD_Rec\n",
      "-10.367293428749951:Lng_Rec\n",
      "22.772134386278:R/G\n",
      "10.229470245976241:Y/G_Rec\n",
      "7.2792746252741365:Fmb_Rec\n",
      "-22.231106753858082:Age_Rush\n",
      "21.84899910194129:G_Rush\n",
      "-6.346255293071606:GS_Rush\n",
      "8.474882283643467:Att\n",
      "-7.550242152873553:Yds_Rush\n",
      "-1.1228507160741918:TD_Rush\n",
      "8.841152947186508:Lng_Rush\n",
      "0.8690373446490327:Y/A\n",
      "30.111099583378945:Y/G_Rush\n"
     ]
    }
   ],
   "source": [
    "df_rb_ridge_model=linear_regression_avg(df_rb,'PTS',\"Ridge\",None,True,True)"
   ]
  },
  {
   "cell_type": "markdown",
   "metadata": {},
   "source": [
    "## Wide Receiver Data"
   ]
  },
  {
   "cell_type": "code",
   "execution_count": 694,
   "metadata": {},
   "outputs": [
    {
     "name": "stdout",
     "output_type": "stream",
     "text": [
      "Train Val Scores: 0.4315395433235077\n",
      "Train Test Scores: 0.22085531209006812\n",
      "Test Scores: 0.3172592641504147\n",
      "1.4251444167073135:Tgt\n",
      "0.280674578655651:Rec\n",
      "-12.174992914590298:Ctch%\n",
      "-0.20181752814426673:Yds_Rec\n",
      "-1.2376737018716755:Y/R\n",
      "4.880187307643472:TD_Rec\n",
      "-0.28567936053413573:Lng_Rec\n",
      "-23.427185084966226:R/G\n",
      "4.553894264794706:Y/G_Rec\n",
      "-4.047292419686578:Fmb_Rec\n",
      "-3.9849791479044416:Age_Rush\n",
      "3.8587543284175543:G_Rush\n",
      "0.09936651892762809:GS_Rush\n",
      "-0.005439883721029916:Att\n",
      "-0.007524428625225042:Yds_Rush\n",
      "-0.8414437240340481:TD_Rush\n",
      "-0.02378839969023664:Lng_Rush\n",
      "2.8187162532512002:Y/A\n",
      "1.7090786385234273:Y/G_Rush\n"
     ]
    }
   ],
   "source": [
    "df_wr_lm_model=linear_regression_avg(df_rb,'PTS',None,None,True,True)"
   ]
  },
  {
   "cell_type": "code",
   "execution_count": 698,
   "metadata": {},
   "outputs": [
    {
     "name": "stdout",
     "output_type": "stream",
     "text": [
      "Lambda: 2.0\n",
      "Train Val Scores: 0.41326171435602366\n",
      "Train Test Scores: 0.2696358872439026\n",
      "Test Scores: 0.3063278677424405\n",
      "0.0:Tgt\n",
      "0.0:Rec\n",
      "-1.9479045846145677:Ctch%\n",
      "0.0:Yds_Rec\n",
      "-0.7014893644894974:Y/R\n",
      "14.898381785274461:TD_Rec\n",
      "-0.0:Lng_Rec\n",
      "16.353041583934353:R/G\n",
      "0.0:Y/G_Rec\n",
      "-0.0:Fmb_Rec\n",
      "-11.452284485818277:Age_Rush\n",
      "5.566309751315461:G_Rush\n",
      "0.0:GS_Rush\n",
      "0.0:Att\n",
      "2.3572226925160376:Yds_Rush\n",
      "0.0:TD_Rush\n",
      "5.344336554808538:Lng_Rush\n",
      "3.6832058227578974:Y/A\n",
      "25.35675179386908:Y/G_Rush\n"
     ]
    }
   ],
   "source": [
    "df_wr_lasso_model=linear_regression_avg(df_rb,'PTS',\"lasso\",None,True,True)"
   ]
  },
  {
   "cell_type": "code",
   "execution_count": 697,
   "metadata": {},
   "outputs": [
    {
     "name": "stdout",
     "output_type": "stream",
     "text": [
      "Lambda: 1.2000000000000002\n",
      "Train Val Scores: 0.43792413887548315\n",
      "Train Test Scores: 0.29168606317614787\n",
      "Test Scores: 0.14821057785701208\n",
      "-2.0814661815829174:Tgt\n",
      "40.95581575770092:Rec\n",
      "0.17131721098100014:Ctch%\n",
      "-48.59243068275396:Yds_Rec\n",
      "-4.179293623544432:Y/R\n",
      "3.7938147056322515:TD_Rec\n",
      "2.5798245478861697:Lng_Rec\n",
      "21.91371880342787:R/G\n",
      "16.408545161660953:Y/G_Rec\n",
      "-8.993624636165139:Fmb_Rec\n",
      "-18.166897936187695:Age_Rush\n",
      "12.441492639696648:G_Rush\n",
      "5.769580402236435:GS_Rush\n",
      "3.7748914571504133:Att\n",
      "-3.981329736947643:Yds_Rush\n",
      "5.980071143776407:TD_Rush\n",
      "3.5410150065878563:Lng_Rush\n",
      "7.68904032046988:Y/A\n",
      "18.436493545714093:Y/G_Rush\n"
     ]
    }
   ],
   "source": [
    "df_wr_ridge_model=linear_regression_avg(df_rb,'PTS',\"Ridge\",None,True,True)"
   ]
  },
  {
   "cell_type": "markdown",
   "metadata": {},
   "source": [
    "# Attempting To Normalize Data Distribution\n"
   ]
  },
  {
   "cell_type": "markdown",
   "metadata": {},
   "source": [
    "### Running Back Model\n",
    "**Linear Regression ended up performing best**"
   ]
  },
  {
   "cell_type": "code",
   "execution_count": 32,
   "metadata": {},
   "outputs": [],
   "source": [
    "df_rb_log1=df_rb.copy()\n",
    "df_rb_log2=df_rb.copy()\n",
    "df_rb_log3=df_rb.copy()\n",
    "df_rb_log4=df_rb.copy()\n",
    "df_rb_log5=df_rb.copy()"
   ]
  },
  {
   "cell_type": "code",
   "execution_count": 33,
   "metadata": {},
   "outputs": [],
   "source": [
    "df_rb_log1['log_pts']=df_rb_log1['PTS'].map(lambda x: log_function(x))\n",
    "df_rb_log1=df_rb_log1.drop(columns='PTS')\n",
    "df_rb_log2['log_pts_shift']=df_rb_log2['PTS'].map(lambda x: log_function_shift(x))\n",
    "df_rb_log2=df_rb_log2.drop(columns='PTS')\n",
    "df_rb_log3['boxcox_pts_shift'],bxcx_lambda=boxcox(df_rb_log3['PTS'].map(lambda x: x+1))\n",
    "df_rb_log3=df_rb_log3.drop(columns='PTS')\n",
    "df_rb_log4['sqrd_rt_pts']=df_rb_log4['PTS'].map(lambda x: math.sqrt(x))\n",
    "df_rb_log4=df_rb_log4.drop(columns='PTS')\n",
    "df_rb_log5['invrs_sq_pts_shift']=df_rb_log5['PTS'].map(lambda x: (x+1)**-.5)\n",
    "df_rb_log5=df_rb_log5.drop(columns='PTS')"
   ]
  },
  {
   "cell_type": "code",
   "execution_count": 38,
   "metadata": {},
   "outputs": [
    {
     "data": {
      "image/png": "[encoded data removed]",
      "text/plain": [
       "<Figure size 432x288 with 1 Axes>"
      ]
     },
     "metadata": {
      "needs_background": "light"
     },
     "output_type": "display_data"
    },
    {
     "name": "stdout",
     "output_type": "stream",
     "text": [
      "85.17084180498941\n",
      "Train Val Scores: 0.3868564806697701\n",
      "Train Test Scores: 0.3551520472716273\n",
      "Test Scores: 0.2062672079931961\n",
      "Lambda: 64.0\n",
      "0.0:Tgt\n",
      "0.0:Rec\n",
      "0.0:Ctch%\n",
      "0.16855593773995267:Yds_Rec\n",
      "-0.0:Y/R\n",
      "0.0:TD_Rec\n",
      "-0.1586557007333736:Lng_Rec\n",
      "0.0:R/G\n",
      "0.11046963450857342:Y/G_Rec\n",
      "-0.0:Fmb_Rec\n",
      "-0.0:Age_Rush\n",
      "-0.0:G_Rush\n",
      "0.0:GS_Rush\n",
      "0.0:Att\n",
      "0.05279607658643956:Yds_Rush\n",
      "-0.0:TD_Rush\n",
      "-0.0:Lng_Rush\n",
      "0.0:Y/A\n",
      "0.5730876841245539:Y/G_Rush\n"
     ]
    },
    {
     "data": {
      "image/png": "[encoded data removed]",
      "text/plain": [
       "<Figure size 432x288 with 1 Axes>"
      ]
     },
     "metadata": {
      "needs_background": "light"
     },
     "output_type": "display_data"
    },
    {
     "name": "stdout",
     "output_type": "stream",
     "text": [
      "1.7892675000205984\n",
      "Train Val Scores: 0.20599818804353118\n",
      "Train Test Scores: 0.18716328927393366\n",
      "Test Scores: 0.15517974399930157\n",
      "Lambda: 17.2\n",
      "0.0:Tgt\n",
      "0.0:Rec\n",
      "-0.0:Ctch%\n",
      "0.000808250834896181:Yds_Rec\n",
      "-0.0:Y/R\n",
      "0.0:TD_Rec\n",
      "0.0:Lng_Rec\n",
      "0.0:R/G\n",
      "0.0:Y/G_Rec\n",
      "-0.0:Fmb_Rec\n",
      "-0.0:Age_Rush\n",
      "-0.0:G_Rush\n",
      "0.0:GS_Rush\n",
      "0.0:Att\n",
      "0.001673402007380331:Yds_Rush\n",
      "-0.0:TD_Rush\n",
      "0.0:Lng_Rush\n",
      "0.0:Y/A\n",
      "0.0:Y/G_Rush\n"
     ]
    },
    {
     "data": {
      "image/png": "[encoded data removed]",
      "text/plain": [
       "<Figure size 432x288 with 1 Axes>"
      ]
     },
     "metadata": {
      "needs_background": "light"
     },
     "output_type": "display_data"
    },
    {
     "name": "stdout",
     "output_type": "stream",
     "text": [
      "1.6777829602500027\n",
      "Train Val Scores: 0.23582948545833254\n",
      "Train Test Scores: 0.17095219636230644\n",
      "Test Scores: 0.09655682092168516\n",
      "Lambda: 2.96\n",
      "0.0:Tgt\n",
      "0.0:Rec\n",
      "-0.0:Ctch%\n",
      "0.0016477232916487247:Yds_Rec\n",
      "-0.0:Y/R\n",
      "0.0:TD_Rec\n",
      "0.0:Lng_Rec\n",
      "0.0:R/G\n",
      "0.0:Y/G_Rec\n",
      "-0.0:Fmb_Rec\n",
      "-0.0:Age_Rush\n",
      "-0.0:G_Rush\n",
      "-0.0:GS_Rush\n",
      "-0.0002587173308455131:Att\n",
      "0.001261636757999076:Yds_Rush\n",
      "-0.0:TD_Rush\n",
      "0.00335786909242022:Lng_Rush\n",
      "0.0:Y/A\n",
      "0.0:Y/G_Rush\n"
     ]
    },
    {
     "data": {
      "image/png": "[encoded data removed]",
      "text/plain": [
       "<Figure size 432x288 with 1 Axes>"
      ]
     },
     "metadata": {
      "needs_background": "light"
     },
     "output_type": "display_data"
    },
    {
     "name": "stdout",
     "output_type": "stream",
     "text": [
      "3.379947997758935\n",
      "Train Val Scores: 0.27661653025740457\n",
      "Train Test Scores: 0.23727761802397024\n",
      "Test Scores: 0.18000869045681878\n",
      "Lambda: 4.0\n",
      "0.0:Tgt\n",
      "0.0:Rec\n",
      "0.0:Ctch%\n",
      "0.0026449325134320126:Yds_Rec\n",
      "-0.0:Y/R\n",
      "0.0:TD_Rec\n",
      "0.0:Lng_Rec\n",
      "0.0:R/G\n",
      "0.0:Y/G_Rec\n",
      "-0.0:Fmb_Rec\n",
      "-0.0:Age_Rush\n",
      "-0.0:G_Rush\n",
      "-0.0:GS_Rush\n",
      "-0.0028483954145551793:Att\n",
      "0.0040578064485227:Yds_Rush\n",
      "-0.0:TD_Rush\n",
      "0.00959476269150156:Lng_Rush\n",
      "0.0:Y/A\n",
      "0.0027129358407419783:Y/G_Rush\n"
     ]
    },
    {
     "data": {
      "image/png": "[encoded data removed]",
      "text/plain": [
       "<Figure size 432x288 with 1 Axes>"
      ]
     },
     "metadata": {
      "needs_background": "light"
     },
     "output_type": "display_data"
    },
    {
     "name": "stdout",
     "output_type": "stream",
     "text": [
      "4.9928416236221445\n",
      "Train Val Scores: 0.33558144219629726\n",
      "Train Test Scores: 0.22218017251697209\n",
      "Test Scores: 0.2840034163391104\n",
      "Lambda: 4.0\n",
      "0.0:Tgt\n",
      "0.0:Rec\n",
      "0.0:Ctch%\n",
      "0.004666366540686783:Yds_Rec\n",
      "-0.0:Y/R\n",
      "0.0:TD_Rec\n",
      "0.0:Lng_Rec\n",
      "0.0:R/G\n",
      "0.023168332822739078:Y/G_Rec\n",
      "-0.0:Fmb_Rec\n",
      "-0.0:Age_Rush\n",
      "-0.0:G_Rush\n",
      "-0.0:GS_Rush\n",
      "-0.0:Att\n",
      "0.003261440758844409:Yds_Rush\n",
      "-0.0:TD_Rush\n",
      "0.030340333860252946:Lng_Rush\n",
      "0.0:Y/A\n",
      "0.005448677684323678:Y/G_Rush\n"
     ]
    },
    {
     "data": {
      "image/png": "[encoded data removed]",
      "text/plain": [
       "<Figure size 432x288 with 1 Axes>"
      ]
     },
     "metadata": {
      "needs_background": "light"
     },
     "output_type": "display_data"
    },
    {
     "name": "stdout",
     "output_type": "stream",
     "text": [
      "0.2670819908646332\n",
      "Train Val Scores: 0.06323716400403016\n",
      "Train Test Scores: 0.032181954648918376\n",
      "Test Scores: 0.10305653055212938\n",
      "Lambda: 3.6639999999999997\n",
      "-0.0:Tgt\n",
      "-0.0:Rec\n",
      "-0.0:Ctch%\n",
      "-3.485774161043315e-05:Yds_Rec\n",
      "-0.0:Y/R\n",
      "-0.0:TD_Rec\n",
      "-0.0:Lng_Rec\n",
      "-0.0:R/G\n",
      "-0.0:Y/G_Rec\n",
      "0.0:Fmb_Rec\n",
      "0.0:Age_Rush\n",
      "-0.0:G_Rush\n",
      "-0.0:GS_Rush\n",
      "-0.0:Att\n",
      "-0.00013442646766239963:Yds_Rush\n",
      "-0.0:TD_Rush\n",
      "-0.0:Lng_Rush\n",
      "-0.0:Y/A\n",
      "-0.0:Y/G_Rush\n"
     ]
    },
    {
     "data": {
      "text/plain": [
       "Lasso(alpha=3.6639999999999997, copy_X=True, fit_intercept=True,\n",
       "   max_iter=1000, normalize=False, positive=False, precompute=False,\n",
       "   random_state=None, selection='cyclic', tol=0.0001, warm_start=False)"
      ]
     },
     "execution_count": 38,
     "metadata": {},
     "output_type": "execute_result"
    }
   ],
   "source": [
    "#Regular\n",
    "plt.hist(df_rb['PTS'])\n",
    "plt.show()\n",
    "print(np.std(df_rb['PTS']))\n",
    "regression_avg_normalization(df_rb,'PTS',\"LASSO\",None,True,True)\n",
    "\n",
    "#Logged\n",
    "plt.hist(df_rb_log1['log_pts'])\n",
    "plt.show()\n",
    "print(np.std(df_rb_log1['log_pts']))\n",
    "regression_avg_normalization(df_rb_log1,'log_pts',\"LASSO\",None,True,True)\n",
    "\n",
    "\n",
    "#Logged Shifted\n",
    "plt.hist(df_rb_log2['log_pts_shift'])\n",
    "plt.show()\n",
    "print(np.std(df_rb_log2['log_pts_shift']))\n",
    "regression_avg_normalization(df_rb_log2,'log_pts_shift',\"LASSO\",None,True,True)\n",
    "\n",
    "\n",
    "#BoxCox Logged\n",
    "plt.hist(df_rb_log3['boxcox_pts_shift'])\n",
    "plt.show()\n",
    "print(np.std(df_rb_log3['boxcox_pts_shift']))\n",
    "regression_avg_normalization(df_rb_log3,'boxcox_pts_shift',\"LASSO\",None,True,True)\n",
    "\n",
    "#Squared Root\n",
    "plt.hist(df_rb_log4['sqrd_rt_pts'])\n",
    "plt.show()\n",
    "print(np.std(df_rb_log4['sqrd_rt_pts']))\n",
    "regression_avg_normalization(df_rb_log4,'sqrd_rt_pts',\"LASSO\",None,True,True)\n",
    "\n",
    "#Inverse Sqrd\n",
    "plt.hist(df_rb_log5['invrs_sq_pts_shift'])\n",
    "plt.show()\n",
    "print(np.std(df_rb_log5['invrs_sq_pts_shift']))\n",
    "regression_avg_normalization(df_rb_log5,'invrs_sq_pts_shift',\"LASSO\",None,True,True)\n"
   ]
  },
  {
   "cell_type": "markdown",
   "metadata": {},
   "source": [
    "### Wide Receiver Model\n",
    "**Wide Receiver Model ended up performing best**"
   ]
  },
  {
   "cell_type": "code",
   "execution_count": 56,
   "metadata": {},
   "outputs": [],
   "source": [
    "df_wr_log1=df_wr.copy()\n",
    "df_wr_log2=df_wr.copy()\n",
    "df_wr_log3=df_wr.copy()\n",
    "df_wr_log4=df_wr.copy()\n",
    "df_wr_log5=df_wr.copy()\n",
    "\n",
    "df_wr_log1['log_pts']=df_wr_log1['PTS'].map(lambda x: log_function(x))\n",
    "df_wr_log1=df_wr_log1.drop(columns='PTS')\n",
    "df_wr_log2['log_pts_shift']=df_wr_log2['PTS'].map(lambda x: log_function_shift(x))\n",
    "df_wr_log2=df_wr_log2.drop(columns='PTS')\n",
    "df_wr_log3['boxcox_pts_shift'],bxcx_lambda=boxcox(df_wr_log3['PTS'].map(lambda x: x+1))\n",
    "df_wr_log3=df_wr_log3.drop(columns='PTS')\n",
    "df_wr_log4['sqrd_rt_pts']=df_wr_log4['PTS'].map(lambda x: math.sqrt(x))\n",
    "df_wr_log4=df_wr_log4.drop(columns='PTS')\n",
    "df_wr_log5['invrs_sq_pts_shift']=df_wr_log5['PTS'].map(lambda x: (x+1)**-.5)\n",
    "df_wr_log5=df_wr_log5.drop(columns='PTS')"
   ]
  },
  {
   "cell_type": "code",
   "execution_count": 57,
   "metadata": {},
   "outputs": [
    {
     "data": {
      "image/png": "[encoded data removed]",
      "text/plain": [
       "<Figure size 432x288 with 1 Axes>"
      ]
     },
     "metadata": {
      "needs_background": "light"
     },
     "output_type": "display_data"
    },
    {
     "name": "stdout",
     "output_type": "stream",
     "text": [
      "83.5227602733312\n",
      "Train Val Scores: 0.4568190745431343\n",
      "Train Test Scores: 0.39718613124164814\n",
      "Test Scores: 0.4435069992104631\n",
      "Lambda: 7.52\n",
      "-0.0995474397169373:Tgt\n",
      "0.7427280407179725:Rec\n",
      "-0.0:Ctch%\n",
      "0.0006386843430808591:Yds_Rec\n",
      "-0.0:Y/R\n",
      "0.6392950292704305:TD_Rec\n",
      "-0.0:Lng_Rec\n",
      "0.0:R/G\n",
      "1.4444555434985569:Y/G_Rec\n",
      "-0.0:Fmb_Rec\n",
      "-0.0945471491791474:Age_Rush\n",
      "0.0:G_Rush\n",
      "0.576650954615561:GS_Rush\n",
      "0.0:Att\n",
      "0.05585488049416929:Yds_Rush\n",
      "0.0:TD_Rush\n",
      "0.19396129147490723:Lng_Rush\n",
      "0.0:Y/A\n",
      "0.0:Y/G_Rush\n"
     ]
    },
    {
     "data": {
      "image/png": "[encoded data removed]",
      "text/plain": [
       "<Figure size 432x288 with 1 Axes>"
      ]
     },
     "metadata": {
      "needs_background": "light"
     },
     "output_type": "display_data"
    },
    {
     "name": "stdout",
     "output_type": "stream",
     "text": [
      "1.5198293173620223\n",
      "Train Val Scores: 0.22304557206909198\n",
      "Train Test Scores: 0.18525323218685902\n",
      "Test Scores: 0.2537872801848714\n",
      "Lambda: 4.4\n",
      "0.0:Tgt\n",
      "0.0:Rec\n",
      "-0.0:Ctch%\n",
      "0.0017721904684443342:Yds_Rec\n",
      "0.0:Y/R\n",
      "0.0:TD_Rec\n",
      "0.0:Lng_Rec\n",
      "0.0:R/G\n",
      "0.0:Y/G_Rec\n",
      "-0.0:Fmb_Rec\n",
      "-0.0:Age_Rush\n",
      "0.0:G_Rush\n",
      "-0.0:GS_Rush\n",
      "0.0:Att\n",
      "0.00026107295401500414:Yds_Rush\n",
      "0.0:TD_Rush\n",
      "0.0:Lng_Rush\n",
      "0.0:Y/A\n",
      "0.0:Y/G_Rush\n"
     ]
    },
    {
     "data": {
      "image/png": "[encoded data removed]",
      "text/plain": [
       "<Figure size 432x288 with 1 Axes>"
      ]
     },
     "metadata": {
      "needs_background": "light"
     },
     "output_type": "display_data"
    },
    {
     "name": "stdout",
     "output_type": "stream",
     "text": [
      "1.453662176624363\n",
      "Train Val Scores: 0.2365738781511953\n",
      "Train Test Scores: 0.22431552993413142\n",
      "Test Scores: 0.2261480623533908\n",
      "Lambda: 2.0\n",
      "0.0:Tgt\n",
      "0.0:Rec\n",
      "-0.0:Ctch%\n",
      "0.001797331509994508:Yds_Rec\n",
      "0.0:Y/R\n",
      "0.0:TD_Rec\n",
      "0.0:Lng_Rec\n",
      "0.0:R/G\n",
      "0.0:Y/G_Rec\n",
      "-0.0:Fmb_Rec\n",
      "0.0:Age_Rush\n",
      "0.0:G_Rush\n",
      "0.0:GS_Rush\n",
      "0.0:Att\n",
      "0.0022448191851789593:Yds_Rush\n",
      "0.0:TD_Rush\n",
      "0.0:Lng_Rush\n",
      "0.0:Y/A\n",
      "0.0:Y/G_Rush\n"
     ]
    },
    {
     "data": {
      "image/png": "[encoded data removed]",
      "text/plain": [
       "<Figure size 432x288 with 1 Axes>"
      ]
     },
     "metadata": {
      "needs_background": "light"
     },
     "output_type": "display_data"
    },
    {
     "name": "stdout",
     "output_type": "stream",
     "text": [
      "6.180489254727831\n",
      "Train Val Scores: 0.34881603712949577\n",
      "Train Test Scores: 0.3107200374729331\n",
      "Test Scores: 0.4873967020928547\n",
      "Lambda: 2.48\n",
      "0.0:Tgt\n",
      "-0.0:Rec\n",
      "-0.0:Ctch%\n",
      "0.0074476393626925685:Yds_Rec\n",
      "0.0:Y/R\n",
      "0.0:TD_Rec\n",
      "0.0168237734187286:Lng_Rec\n",
      "0.0:R/G\n",
      "0.02763163486321605:Y/G_Rec\n",
      "-0.0:Fmb_Rec\n",
      "0.0:Age_Rush\n",
      "0.0:G_Rush\n",
      "0.0:GS_Rush\n",
      "0.0:Att\n",
      "0.0077896707098926:Yds_Rush\n",
      "-0.0:TD_Rush\n",
      "0.0:Lng_Rush\n",
      "0.0:Y/A\n",
      "0.0:Y/G_Rush\n"
     ]
    },
    {
     "data": {
      "image/png": "[encoded data removed]",
      "text/plain": [
       "<Figure size 432x288 with 1 Axes>"
      ]
     },
     "metadata": {
      "needs_background": "light"
     },
     "output_type": "display_data"
    },
    {
     "name": "stdout",
     "output_type": "stream",
     "text": [
      "4.6818636459866765\n",
      "Train Val Scores: 0.4250254747498749\n",
      "Train Test Scores: 0.36949909678016757\n",
      "Test Scores: 0.21186417095344057\n",
      "Lambda: 1.4560000000000002\n",
      "0.017511371346296635:Tgt\n",
      "0.0:Rec\n",
      "0.0:Ctch%\n",
      "0.0007430465687554153:Yds_Rec\n",
      "0.0:Y/R\n",
      "-0.0:TD_Rec\n",
      "0.021151927973539708:Lng_Rec\n",
      "0.0:R/G\n",
      "0.06436056098083805:Y/G_Rec\n",
      "-0.0:Fmb_Rec\n",
      "-0.0:Age_Rush\n",
      "0.0:G_Rush\n",
      "0.0:GS_Rush\n",
      "-0.0:Att\n",
      "0.00721288794426055:Yds_Rush\n",
      "-0.0:TD_Rush\n",
      "0.0:Lng_Rush\n",
      "-0.0:Y/A\n",
      "0.0:Y/G_Rush\n"
     ]
    },
    {
     "data": {
      "image/png": "[encoded data removed]",
      "text/plain": [
       "<Figure size 432x288 with 1 Axes>"
      ]
     },
     "metadata": {
      "needs_background": "light"
     },
     "output_type": "display_data"
    },
    {
     "name": "stdout",
     "output_type": "stream",
     "text": [
      "0.21258624724244604\n",
      "Train Val Scores: 0.07511784767373697\n",
      "Train Test Scores: 0.0744171169709615\n",
      "Test Scores: 0.06325542158641606\n",
      "Lambda: 3.5999999999999996\n",
      "-0.0:Tgt\n",
      "-0.0:Rec\n",
      "0.0:Ctch%\n",
      "-0.00010696174277574889:Yds_Rec\n",
      "-0.0:Y/R\n",
      "-0.0:TD_Rec\n",
      "-0.0:Lng_Rec\n",
      "-0.0:R/G\n",
      "-0.0:Y/G_Rec\n",
      "0.0:Fmb_Rec\n",
      "-0.0:Age_Rush\n",
      "-0.0:G_Rush\n",
      "-0.0:GS_Rush\n",
      "-0.0:Att\n",
      "-0.0:Yds_Rush\n",
      "-0.0:TD_Rush\n",
      "-0.0:Lng_Rush\n",
      "-0.0:Y/A\n",
      "-0.0:Y/G_Rush\n"
     ]
    },
    {
     "data": {
      "text/plain": [
       "Lasso(alpha=3.5999999999999996, copy_X=True, fit_intercept=True,\n",
       "   max_iter=1000, normalize=False, positive=False, precompute=False,\n",
       "   random_state=None, selection='cyclic', tol=0.0001, warm_start=False)"
      ]
     },
     "execution_count": 57,
     "metadata": {},
     "output_type": "execute_result"
    }
   ],
   "source": [
    "#Regular\n",
    "plt.hist(df_wr['PTS'])\n",
    "plt.show()\n",
    "print(np.std(df_wr['PTS']))\n",
    "regression_avg_normalization(df_wr,'PTS',\"LASSO\",None,True,True)\n",
    "\n",
    "#Logged\n",
    "plt.hist(df_wr_log1['log_pts'])\n",
    "plt.show()\n",
    "print(np.std(df_wr_log1['log_pts']))\n",
    "regression_avg_normalization(df_wr_log1,'log_pts',\"LASSO\",None,True,True)\n",
    "\n",
    "#Logged Shifted\n",
    "plt.hist(df_wr_log2['log_pts_shift'])\n",
    "plt.show()\n",
    "print(np.std(df_wr_log2['log_pts_shift']))\n",
    "regression_avg_normalization(df_wr_log2,'log_pts_shift',\"LASSO\",None,True,True)\n",
    "\n",
    "#BoxCox Logged\n",
    "plt.hist(df_wr_log3['boxcox_pts_shift'])\n",
    "plt.show()\n",
    "print(np.std(df_wr_log3['boxcox_pts_shift']))\n",
    "regression_avg_normalization(df_wr_log3,'boxcox_pts_shift',\"LASSO\",None,True,True)\n",
    "\n",
    "#Squared Root\n",
    "plt.hist(df_wr_log4['sqrd_rt_pts'])\n",
    "plt.show()\n",
    "print(np.std(df_wr_log4['sqrd_rt_pts']))\n",
    "regression_avg_normalization(df_wr_log4,'sqrd_rt_pts',\"LASSO\",None,True,True)\n",
    "\n",
    "#Inverse Sqrd\n",
    "plt.hist(df_wr_log5['invrs_sq_pts_shift'])\n",
    "plt.show()\n",
    "print(np.std(df_wr_log5['invrs_sq_pts_shift']))\n",
    "regression_avg_normalization(df_wr_log5,'invrs_sq_pts_shift',\"LASSO\",None,True,True)\n"
   ]
  },
  {
   "cell_type": "markdown",
   "metadata": {},
   "source": [
    "# Use Lasso To Find Best Features\n",
    "## Normal Features"
   ]
  },
  {
   "cell_type": "markdown",
   "metadata": {},
   "source": [
    "### Wide Receivers"
   ]
  },
  {
   "cell_type": "code",
   "execution_count": 61,
   "metadata": {},
   "outputs": [
    {
     "name": "stdout",
     "output_type": "stream",
     "text": [
      "46\n",
      "0.4109080504519269\n",
      "0.4242973798954157\n",
      "\n",
      "\n",
      "47\n",
      "0.4107768373767928\n",
      "0.4370299928025685\n",
      "\n",
      "\n",
      "58\n",
      "0.4057959394228682\n",
      "0.4533757083448942\n",
      "\n",
      "\n",
      "0.000784453187410809:Tgt\n",
      "0.006866068126056321:Rec\n",
      "0.0:Ctch%\n",
      "0.04415493082066762:Yds_Rec\n",
      "-0.0:Y/R\n",
      "0.0:TD_Rec\n",
      "0.0:Lng_Rec\n",
      "0.0:R/G\n",
      "1.682077108284885:Y/G_Rec\n",
      "-0.0:Fmb_Rec\n",
      "0.0:Age_Rush\n",
      "0.0:G_Rush\n",
      "0.0:GS_Rush\n",
      "0.0:Att\n",
      "0.21403716253508023:Yds_Rush\n",
      "0.0:TD_Rush\n",
      "0.0:Lng_Rush\n",
      "0.0:Y/A\n",
      "0.0:Y/G_Rush\n"
     ]
    }
   ],
   "source": [
    "lambda_tester(df_wr,'PTS',46,82,True,20)"
   ]
  },
  {
   "cell_type": "markdown",
   "metadata": {},
   "source": [
    "### Running Backs"
   ]
  },
  {
   "cell_type": "code",
   "execution_count": 63,
   "metadata": {},
   "outputs": [
    {
     "name": "stdout",
     "output_type": "stream",
     "text": [
      "40\n",
      "0.28292767472500846\n",
      "0.3281915771304341\n",
      "\n",
      "\n",
      "50\n",
      "0.2858095127084\n",
      "0.32894952585723847\n",
      "\n",
      "\n",
      "0.0221137469834141:Tgt\n",
      "0.0:Rec\n",
      "-0.0:Ctch%\n",
      "0.10537722250689044:Yds_Rec\n",
      "-0.0:Y/R\n",
      "0.0:TD_Rec\n",
      "0.0:Lng_Rec\n",
      "0.0:R/G\n",
      "0.1945544418347676:Y/G_Rec\n",
      "-0.0:Fmb_Rec\n",
      "-0.0819939496836326:Age_Rush\n",
      "-0.0:G_Rush\n",
      "-0.0:GS_Rush\n",
      "-0.0:Att\n",
      "0.03605699412165946:Yds_Rush\n",
      "0.0:TD_Rush\n",
      "0.1886880550990948:Lng_Rush\n",
      "0.0:Y/A\n",
      "0.6612893740639976:Y/G_Rush\n"
     ]
    }
   ],
   "source": [
    "lambda_tester(df_rb,'PTS',40,60,True,20)"
   ]
  },
  {
   "cell_type": "markdown",
   "metadata": {},
   "source": [
    "## Polynomial Features"
   ]
  },
  {
   "cell_type": "markdown",
   "metadata": {},
   "source": [
    "### Wide Receiver\n",
    "**Polynomial Regression didn't improve R^2**"
   ]
  },
  {
   "cell_type": "code",
   "execution_count": 65,
   "metadata": {},
   "outputs": [],
   "source": [
    "df_wr_poly=df_wr.loc[:,['PTS','Yds_Rec','Y/G_Rec','Yds_Rush']]\n",
    "poly=PolynomialFeatures(2)\n",
    "df_wr_poly1=poly.fit_transform(df_wr_poly.iloc[:,1:])\n",
    "df_wr_poly1=pd.DataFrame(df_wr_poly1)\n",
    "df_wr_poly1=df_wr_poly1.drop(0,axis=1,)\n",
    "df_wr_poly=df_wr_poly.drop(['Yds_Rec','Y/G_Rec','Yds_Rush'],axis=1)\n",
    "y=df_wr_poly.iloc[:,0]\n",
    "i,i,j,t=Lasso_Reg(df_wr_poly1,y,3)\n"
   ]
  },
  {
   "cell_type": "code",
   "execution_count": 68,
   "metadata": {},
   "outputs": [
    {
     "name": "stdout",
     "output_type": "stream",
     "text": [
      "20\n",
      "0.3673190520286553\n",
      "0.38930732147149055\n",
      "\n",
      "\n",
      "21\n",
      "0.3686987432872916\n",
      "0.40641027422554155\n",
      "\n",
      "\n",
      "26\n",
      "0.37684203201860234\n",
      "0.4047536254571286\n",
      "\n",
      "\n",
      "31\n",
      "0.3854481848956236\n",
      "0.4088641611091625\n",
      "\n",
      "\n",
      "35\n",
      "0.38650428707471945\n",
      "0.4081618069075082\n",
      "\n",
      "\n",
      "39\n",
      "0.3700825420698308\n",
      "0.4285150621825294\n",
      "\n",
      "\n",
      "41\n",
      "0.3657000873972474\n",
      "0.44153099515758226\n",
      "\n",
      "\n",
      "45\n",
      "0.38299354938787916\n",
      "0.4317563111660422\n",
      "\n",
      "\n",
      "0.07329856057245178:1\n",
      "0.0:2\n",
      "0.0:3\n",
      "0.00020749538491598096:4\n",
      "-0.004764292629961384:5\n",
      "0.001430774688899554:6\n",
      "0.03644662366957821:7\n",
      "-0.026334760239279924:8\n",
      "0.0023835017600293915:9\n"
     ]
    }
   ],
   "source": [
    "lambda_tester(df_wr_poly1,y,20,60,True,20)"
   ]
  },
  {
   "cell_type": "markdown",
   "metadata": {},
   "source": [
    "### Running Back\n",
    "**Polynomial Regression didn't improve R^2**"
   ]
  },
  {
   "cell_type": "code",
   "execution_count": 69,
   "metadata": {},
   "outputs": [],
   "source": [
    "df_rb_poly=df_rb.loc[:,['PTS','Age_Rush','Yds_Rec','Att','Lng_Rush','Tgt','Y/G_Rush']]\n",
    "df_rb_poly1=poly.fit_transform(df_rb_poly.iloc[:,1:])\n",
    "df_rb_poly1=pd.DataFrame(df_rb_poly1)\n",
    "df_rb_poly1=df_rb_poly1.drop(0,axis=1,)\n",
    "df_rb_poly=df_rb_poly.drop(['Age_Rush','Yds_Rec','Att','Lng_Rush','Tgt','Y/G_Rush'],axis=1)\n",
    "y=df_rb_poly.iloc[:,0]"
   ]
  },
  {
   "cell_type": "code",
   "execution_count": 70,
   "metadata": {},
   "outputs": [
    {
     "name": "stdout",
     "output_type": "stream",
     "text": [
      "30\n",
      "0.23974169659238573\n",
      "0.22597057586238906\n",
      "\n",
      "\n",
      "31\n",
      "0.22297031896434064\n",
      "0.24684465154442817\n",
      "\n",
      "\n",
      "34\n",
      "0.18870495216757122\n",
      "0.319910722290693\n",
      "\n",
      "\n",
      "51\n",
      "0.23502621857990827\n",
      "0.2737931896539388\n",
      "\n",
      "\n",
      "67\n",
      "0.20804062768732706\n",
      "0.30697732510483455\n",
      "\n",
      "\n",
      "77\n",
      "0.20809422137064934\n",
      "0.3137896715946371\n",
      "\n",
      "\n",
      "0.0:1\n",
      "0.6792772657298964:2\n",
      "0.13327861136232702:3\n",
      "0.0:4\n",
      "0.0:5\n",
      "0.0:6\n",
      "-0.030859179327739787:7\n",
      "-0.019206520864016127:8\n",
      "0.0026960830730708234:9\n",
      "0.024092221968478867:10\n",
      "-0.05132596656287502:11\n",
      "0.0:12\n",
      "-0.001032769624876784:13\n",
      "-0.0007480519375856786:14\n",
      "0.00037661765625270646:15\n",
      "0.01316019605529447:16\n",
      "-0.0035185005606094707:17\n",
      "0.00178527069213453:18\n",
      "-0.030799826374982506:19\n",
      "-0.00035702331531719:20\n",
      "0.006874375939528082:21\n",
      "0.0:22\n",
      "0.022927487173153998:23\n",
      "0.05121159357392295:24\n",
      "-0.03454359858025566:25\n",
      "0.03945915206822246:26\n",
      "-0.009067345192066175:27\n"
     ]
    }
   ],
   "source": [
    "lambda_tester(df_rb_poly1,y,30,80,True,20)"
   ]
  },
  {
   "cell_type": "markdown",
   "metadata": {},
   "source": [
    "# Pull in Lasso Selected Features For Both Positions"
   ]
  },
  {
   "cell_type": "code",
   "execution_count": 71,
   "metadata": {},
   "outputs": [],
   "source": [
    "df_wr = df_wr.loc[:,['PTS','Yds_Rec','Y/G_Rec','Yds_Rush']]\n",
    "df_rb=df_rb.loc[:,['PTS','Age_Rush','Yds_Rec','Tgt','Y/G_Rush']]"
   ]
  },
  {
   "cell_type": "markdown",
   "metadata": {},
   "source": [
    "# Final Model Checks\n",
    "**I checked Lasso and Ridge regularization, neither improved the model**"
   ]
  },
  {
   "cell_type": "markdown",
   "metadata": {},
   "source": [
    "### RB Model"
   ]
  },
  {
   "cell_type": "code",
   "execution_count": 84,
   "metadata": {},
   "outputs": [
    {
     "name": "stdout",
     "output_type": "stream",
     "text": [
      "Train Val Scores: 0.36732120972225996\n",
      "Train Test Scores: 0.3083383692105358\n",
      "Test Scores: 0.31686717563920885\n"
     ]
    }
   ],
   "source": [
    "regression_avg(df_rb,'PTS',False,500)"
   ]
  },
  {
   "cell_type": "markdown",
   "metadata": {},
   "source": [
    "### WR Model"
   ]
  },
  {
   "cell_type": "code",
   "execution_count": 85,
   "metadata": {},
   "outputs": [
    {
     "name": "stdout",
     "output_type": "stream",
     "text": [
      "Train Val Scores: 0.4552908298091342\n",
      "Train Test Scores: 0.42234003474509907\n",
      "Test Scores: 0.42311584956735543\n"
     ]
    }
   ],
   "source": [
    "regression_avg(df_wr,'PTS',False,500)"
   ]
  },
  {
   "cell_type": "markdown",
   "metadata": {},
   "source": [
    "# Model Analysis"
   ]
  },
  {
   "cell_type": "markdown",
   "metadata": {},
   "source": [
    "## Predictions For The Top 5 Fantasy Performer For Each Position"
   ]
  },
  {
   "cell_type": "markdown",
   "metadata": {},
   "source": [
    "### Wide Receiver"
   ]
  },
  {
   "cell_type": "code",
   "execution_count": 119,
   "metadata": {},
   "outputs": [
    {
     "data": {
      "text/html": [
       "<div>\n",
       "<style scoped>\n",
       "    .dataframe tbody tr th:only-of-type {\n",
       "        vertical-align: middle;\n",
       "    }\n",
       "\n",
       "    .dataframe tbody tr th {\n",
       "        vertical-align: top;\n",
       "    }\n",
       "\n",
       "    .dataframe thead th {\n",
       "        text-align: right;\n",
       "    }\n",
       "</style>\n",
       "<table border=\"1\" class=\"dataframe\">\n",
       "  <thead>\n",
       "    <tr style=\"text-align: right;\">\n",
       "      <th></th>\n",
       "      <th>0</th>\n",
       "      <th>1</th>\n",
       "      <th>2</th>\n",
       "      <th>3</th>\n",
       "      <th>4</th>\n",
       "      <th>5</th>\n",
       "    </tr>\n",
       "  </thead>\n",
       "  <tbody>\n",
       "    <tr>\n",
       "      <th>2</th>\n",
       "      <td>299.531563</td>\n",
       "      <td>3</td>\n",
       "      <td>1677.0</td>\n",
       "      <td>104.8</td>\n",
       "      <td>12.0</td>\n",
       "      <td>juliojones18</td>\n",
       "    </tr>\n",
       "    <tr>\n",
       "      <th>9</th>\n",
       "      <td>282.200237</td>\n",
       "      <td>14</td>\n",
       "      <td>1479.0</td>\n",
       "      <td>92.4</td>\n",
       "      <td>151.0</td>\n",
       "      <td>tyreekhill18</td>\n",
       "    </tr>\n",
       "    <tr>\n",
       "      <th>1</th>\n",
       "      <td>279.273170</td>\n",
       "      <td>2</td>\n",
       "      <td>1572.0</td>\n",
       "      <td>98.3</td>\n",
       "      <td>-7.0</td>\n",
       "      <td>deandrehopkins18</td>\n",
       "    </tr>\n",
       "    <tr>\n",
       "      <th>10</th>\n",
       "      <td>271.873300</td>\n",
       "      <td>16</td>\n",
       "      <td>1524.0</td>\n",
       "      <td>95.3</td>\n",
       "      <td>0.0</td>\n",
       "      <td>mikeevans18</td>\n",
       "    </tr>\n",
       "    <tr>\n",
       "      <th>5</th>\n",
       "      <td>256.556119</td>\n",
       "      <td>6</td>\n",
       "      <td>1426.0</td>\n",
       "      <td>89.1</td>\n",
       "      <td>13.0</td>\n",
       "      <td>jujusmithschuster18</td>\n",
       "    </tr>\n",
       "  </tbody>\n",
       "</table>\n",
       "</div>"
      ],
      "text/plain": [
       "             0   1       2      3      4                    5\n",
       "2   299.531563   3  1677.0  104.8   12.0         juliojones18\n",
       "9   282.200237  14  1479.0   92.4  151.0         tyreekhill18\n",
       "1   279.273170   2  1572.0   98.3   -7.0     deandrehopkins18\n",
       "10  271.873300  16  1524.0   95.3    0.0          mikeevans18\n",
       "5   256.556119   6  1426.0   89.1   13.0  jujusmithschuster18"
      ]
     },
     "execution_count": 119,
     "metadata": {},
     "output_type": "execute_result"
    }
   ],
   "source": [
    "df_wr_predict_x=df_wr_18[['Yds_Rec', 'Y/G_Rec', 'Yds_Rush']]\n",
    "\n",
    "WR_Fantasy_Pts_Predict=wr_model.predict(df_wr_predict_x)\n",
    "\n",
    "df_wr_18.reset_index(inplace=True)\n",
    "df_wr_names_predict=pd.concat([pd.Series(WR_Fantasy_Pts_Predict),df_wr_18],axis=1,ignore_index=True)\n",
    "\n",
    "df_wr_names_predict.sort_values(by=0,ascending=False).head(5)"
   ]
  },
  {
   "cell_type": "markdown",
   "metadata": {},
   "source": [
    "### Running Back"
   ]
  },
  {
   "cell_type": "code",
   "execution_count": 123,
   "metadata": {},
   "outputs": [
    {
     "data": {
      "text/html": [
       "<div>\n",
       "<style scoped>\n",
       "    .dataframe tbody tr th:only-of-type {\n",
       "        vertical-align: middle;\n",
       "    }\n",
       "\n",
       "    .dataframe tbody tr th {\n",
       "        vertical-align: top;\n",
       "    }\n",
       "\n",
       "    .dataframe thead th {\n",
       "        text-align: right;\n",
       "    }\n",
       "</style>\n",
       "<table border=\"1\" class=\"dataframe\">\n",
       "  <thead>\n",
       "    <tr style=\"text-align: right;\">\n",
       "      <th></th>\n",
       "      <th>0</th>\n",
       "      <th>1</th>\n",
       "      <th>2</th>\n",
       "      <th>3</th>\n",
       "      <th>4</th>\n",
       "      <th>5</th>\n",
       "      <th>6</th>\n",
       "      <th>7</th>\n",
       "    </tr>\n",
       "  </thead>\n",
       "  <tbody>\n",
       "    <tr>\n",
       "      <th>0</th>\n",
       "      <td>312.283832</td>\n",
       "      <td>0</td>\n",
       "      <td>7</td>\n",
       "      <td>22.0</td>\n",
       "      <td>867.0</td>\n",
       "      <td>124.0</td>\n",
       "      <td>68.6</td>\n",
       "      <td>christianmccaffrey18</td>\n",
       "    </tr>\n",
       "    <tr>\n",
       "      <th>1</th>\n",
       "      <td>299.833476</td>\n",
       "      <td>1</td>\n",
       "      <td>12</td>\n",
       "      <td>21.0</td>\n",
       "      <td>721.0</td>\n",
       "      <td>121.0</td>\n",
       "      <td>81.7</td>\n",
       "      <td>saquonbarkley18</td>\n",
       "    </tr>\n",
       "    <tr>\n",
       "      <th>4</th>\n",
       "      <td>268.494459</td>\n",
       "      <td>4</td>\n",
       "      <td>22</td>\n",
       "      <td>23.0</td>\n",
       "      <td>567.0</td>\n",
       "      <td>95.0</td>\n",
       "      <td>95.6</td>\n",
       "      <td>ezekielelliott18</td>\n",
       "    </tr>\n",
       "    <tr>\n",
       "      <th>3</th>\n",
       "      <td>260.849302</td>\n",
       "      <td>3</td>\n",
       "      <td>18</td>\n",
       "      <td>23.0</td>\n",
       "      <td>709.0</td>\n",
       "      <td>105.0</td>\n",
       "      <td>58.9</td>\n",
       "      <td>alvinkamara18</td>\n",
       "    </tr>\n",
       "    <tr>\n",
       "      <th>8</th>\n",
       "      <td>253.903636</td>\n",
       "      <td>8</td>\n",
       "      <td>53</td>\n",
       "      <td>24.0</td>\n",
       "      <td>580.0</td>\n",
       "      <td>81.0</td>\n",
       "      <td>89.4</td>\n",
       "      <td>toddgurley18</td>\n",
       "    </tr>\n",
       "  </tbody>\n",
       "</table>\n",
       "</div>"
      ],
      "text/plain": [
       "            0  1   2     3      4      5     6                     7\n",
       "0  312.283832  0   7  22.0  867.0  124.0  68.6  christianmccaffrey18\n",
       "1  299.833476  1  12  21.0  721.0  121.0  81.7       saquonbarkley18\n",
       "4  268.494459  4  22  23.0  567.0   95.0  95.6      ezekielelliott18\n",
       "3  260.849302  3  18  23.0  709.0  105.0  58.9         alvinkamara18\n",
       "8  253.903636  8  53  24.0  580.0   81.0  89.4          toddgurley18"
      ]
     },
     "execution_count": 123,
     "metadata": {},
     "output_type": "execute_result"
    }
   ],
   "source": [
    "df_rb_predict_x=df_rb_18[['Age_Rush', 'Yds_Rec', 'Tgt', 'Y/G_Rush']]\n",
    "\n",
    "RB_Fantasy_Pts_Predict=rb_model.predict(df_rb_predict_x)\n",
    "df_rb_18.reset_index(inplace=True)\n",
    "\n",
    "df_rb_names_predict=pd.concat([pd.Series(RB_Fantasy_Pts_Predict),df_rb_18],axis=1,ignore_index=True)\n",
    "\n",
    "df_rb_names_predict.sort_values(by=0,ascending=False).head(5)"
   ]
  },
  {
   "cell_type": "markdown",
   "metadata": {},
   "source": [
    "\n",
    "# Graphing"
   ]
  },
  {
   "cell_type": "markdown",
   "metadata": {},
   "source": [
    "## Observed vs Predicted Plots"
   ]
  },
  {
   "cell_type": "code",
   "execution_count": 126,
   "metadata": {},
   "outputs": [],
   "source": [
    "style.use('bmh')"
   ]
  },
  {
   "cell_type": "markdown",
   "metadata": {},
   "source": [
    "### Wide Receiver"
   ]
  },
  {
   "cell_type": "code",
   "execution_count": 132,
   "metadata": {},
   "outputs": [],
   "source": [
    "predicted_y_wr=wr_model.predict(df_wr[['Yds_Rec', 'Y/G_Rec', 'Yds_Rush']])\n",
    "df_wr_obs_pred=pd.concat([pd.DataFrame(df_wr.loc[:,['PTS']]).reset_index(drop=True),pd.DataFrame(predicted_y_wr)],join='inner',axis=1,ignore_index=False)\n",
    "df_wr_obs_pred.columns=['PTS','Predicted_PTS']"
   ]
  },
  {
   "cell_type": "code",
   "execution_count": 133,
   "metadata": {},
   "outputs": [
    {
     "data": {
      "image/png": "[encoded data removed]",
      "text/plain": [
       "<Figure size 360x216 with 1 Axes>"
      ]
     },
     "metadata": {
      "needs_background": "light"
     },
     "output_type": "display_data"
    }
   ],
   "source": [
    "ax=sns.lmplot('PTS','Predicted_PTS',df_wr_obs_pred,)\n",
    "fig=plt.gcf()\n",
    "fig.set_size_inches(5,3)\n",
    "fig.subplots_adjust(bottom=.15,top=.9)\n",
    "plt.ylim(-5,300)\n",
    "plt.xlim(-5,350)\n",
    "ax.set(xlabel=\"Observed Fantasy Points\",ylabel=\"Predicted Fantasy Points\",title=\"WR Total Fantasy Points\")\n",
    "plt.savefig('WR_Predicted_Observed.png',format='png',dpi=1000)\n",
    "plt.show()\n"
   ]
  },
  {
   "cell_type": "markdown",
   "metadata": {},
   "source": [
    "### Running Back"
   ]
  },
  {
   "cell_type": "code",
   "execution_count": 134,
   "metadata": {},
   "outputs": [],
   "source": [
    "predicted_y_rb=rb_model.predict(df_rb[['Age_Rush', 'Yds_Rec', 'Tgt', 'Y/G_Rush']])\n",
    "df_rb_obs_pred=pd.concat([pd.DataFrame(df_rb.loc[:,['PTS']]).reset_index(drop=True),pd.DataFrame(predicted_y_rb)],join='inner',axis=1,ignore_index=False)\n",
    "df_rb_obs_pred.columns=['PTS','Predicted_PTS']"
   ]
  },
  {
   "cell_type": "code",
   "execution_count": 136,
   "metadata": {},
   "outputs": [
    {
     "data": {
      "image/png": "[encoded data removed]",
      "text/plain": [
       "<Figure size 360x216 with 1 Axes>"
      ]
     },
     "metadata": {
      "needs_background": "light"
     },
     "output_type": "display_data"
    }
   ],
   "source": [
    "ax=sns.lmplot('PTS','Predicted_PTS',df_rb_obs_pred,)\n",
    "fig=plt.gcf()\n",
    "plt.tight_layout()\n",
    "fig.set_size_inches(5,3)\n",
    "fig.subplots_adjust(bottom=.15,top=.9)\n",
    "plt.ylim(-5,350)\n",
    "plt.xlim(-5,450)\n",
    "ax.set(xlabel=\"Observed Fantasy Points\",ylabel=\"Predicted Fantasy Points\",title=\"RB Total Fantasy Points\")\n",
    "plt.savefig('RB_Predicted_Observed.jpg',format='jpg',dpi=1000)\n",
    "plt.show()"
   ]
  },
  {
   "cell_type": "markdown",
   "metadata": {},
   "source": [
    "# Model Scores"
   ]
  },
  {
   "cell_type": "markdown",
   "metadata": {},
   "source": [
    "## RMSE And Adjusted R^2"
   ]
  },
  {
   "cell_type": "markdown",
   "metadata": {},
   "source": [
    "### WR"
   ]
  },
  {
   "cell_type": "code",
   "execution_count": 144,
   "metadata": {},
   "outputs": [
    {
     "name": "stdout",
     "output_type": "stream",
     "text": [
      "0.42348988585134073\n"
     ]
    }
   ],
   "source": [
    "# Adjusted R^2\n",
    "y_obs_wr=df_wr.loc[:,['PTS']]\n",
    "adj_wr = 1 - float(len(df_wr.loc[:,['PTS']])-1)/(len(df_wr.loc[:,['PTS']])-len(wr_model.coef_)-1)*(1 - metrics.r2_score(df_wr.loc[:,['PTS']],predicted_y_wr))\n",
    "print(adj_wr)\n"
   ]
  },
  {
   "cell_type": "code",
   "execution_count": 143,
   "metadata": {},
   "outputs": [
    {
     "data": {
      "text/plain": [
       "63.20179740187381"
      ]
     },
     "execution_count": 143,
     "metadata": {},
     "output_type": "execute_result"
    }
   ],
   "source": [
    "# Mean_Squared_Error\n",
    "np.sqrt(mean_squared_error(y_obs_wr,predicted_y_wr))"
   ]
  },
  {
   "cell_type": "markdown",
   "metadata": {},
   "source": [
    "### RB"
   ]
  },
  {
   "cell_type": "code",
   "execution_count": 145,
   "metadata": {},
   "outputs": [
    {
     "name": "stdout",
     "output_type": "stream",
     "text": [
      "0.3244501797458862\n"
     ]
    }
   ],
   "source": [
    "# Adjusted R^2\n",
    "y_obs_rb=df_rb.loc[:,['PTS']]\n",
    "adj_rb = 1 - float(len(df_rb.loc[:,['PTS']])-1)/(len(df_rb.loc[:,['PTS']])-len(rb_model.coef_)-1)*(1 - metrics.r2_score(df_rb.loc[:,['PTS']],predicted_y_rb))\n",
    "print(adj_rb)\n"
   ]
  },
  {
   "cell_type": "code",
   "execution_count": 146,
   "metadata": {},
   "outputs": [
    {
     "data": {
      "text/plain": [
       "69.62610015681585"
      ]
     },
     "execution_count": 146,
     "metadata": {},
     "output_type": "execute_result"
    }
   ],
   "source": [
    "# Mean Squared Error\n",
    "np.sqrt(mean_squared_error(y_obs_rb,predicted_y_rb))"
   ]
  },
  {
   "cell_type": "markdown",
   "metadata": {},
   "source": [
    "# Feature Ranking"
   ]
  },
  {
   "cell_type": "markdown",
   "metadata": {},
   "source": [
    "## WR"
   ]
  },
  {
   "cell_type": "code",
   "execution_count": 151,
   "metadata": {},
   "outputs": [],
   "source": [
    "X_wr=df_wr_allFeat.drop(columns='PTS').astype(float)\n",
    "y_wr=df_wr_allFeat.loc[:,['PTS']].astype(float)\n",
    "y_wr=y_wr.iloc[:,0]\n",
    "alpha_wr,active_wr,coef=lars_path(np.array(X_wr),np.array(y_wr),method='lasso')"
   ]
  },
  {
   "cell_type": "code",
   "execution_count": 152,
   "metadata": {},
   "outputs": [
    {
     "name": "stdout",
     "output_type": "stream",
     "text": [
      "6: Age_Rush\n",
      "14: Att\n",
      "9: Ctch%\n",
      "7: Fmb_Rush\n",
      "0: GS_Rush\n",
      "10: G_Rush\n",
      "12: Lng_Rec\n",
      "16: Lng_Rush\n",
      "15: R/G\n",
      "18: Rec\n",
      "1: TD_Rec\n",
      "13: TD_Rush\n",
      "5: Tgt\n",
      "4: Y/A\n",
      "3: Y/G_Rec\n",
      "2: Y/G_Rush\n",
      "11: Y/R\n",
      "8: Yds_Rec\n",
      "17: Yds_Rush\n"
     ]
    }
   ],
   "source": [
    "for i in range(len(active_wr)):\n",
    "    print(str(active_wr[i]) + ': ' + str(X_wr.columns[i]))"
   ]
  },
  {
   "cell_type": "markdown",
   "metadata": {},
   "source": [
    "## RB"
   ]
  },
  {
   "cell_type": "code",
   "execution_count": 153,
   "metadata": {},
   "outputs": [],
   "source": [
    "X_rb=df_rb_allFeat.drop(columns='PTS').astype(float)\n",
    "y_rb=df_rb_allFeat.loc[:,['PTS']].astype(float)\n",
    "y_rb=y_rb.iloc[:,0]"
   ]
  },
  {
   "cell_type": "code",
   "execution_count": 154,
   "metadata": {},
   "outputs": [],
   "source": [
    "alpha_rb,active_rb,coef=lars_path(np.array(X_rb),np.array(y_rb),method='lasso')"
   ]
  },
  {
   "cell_type": "code",
   "execution_count": 155,
   "metadata": {},
   "outputs": [
    {
     "name": "stdout",
     "output_type": "stream",
     "text": [
      "15: Age_Rush\n",
      "7: Att\n",
      "6: Ctch%\n",
      "12: Fmb_Rush\n",
      "1: GS_Rush\n",
      "14: G_Rush\n",
      "0: Lng_Rec\n",
      "9: Lng_Rush\n",
      "5: R/G\n",
      "10: Rec\n",
      "3: TD_Rec\n",
      "13: TD_Rush\n",
      "16: Tgt\n",
      "2: Y/A\n",
      "4: Y/G_Rec\n",
      "18: Y/G_Rush\n",
      "11: Y/R\n",
      "8: Yds_Rec\n",
      "17: Yds_Rush\n"
     ]
    }
   ],
   "source": [
    "for i in range(len(active_rb)):\n",
    "    print(str(active_rb[i]) + ': ' + str(X_rb.columns[i]))"
   ]
  },
  {
   "cell_type": "code",
   "execution_count": null,
   "metadata": {},
   "outputs": [],
   "source": []
  }
 ],
 "metadata": {
  "kernelspec": {
   "display_name": "Python 3",
   "language": "python",
   "name": "python3"
  },
  "language_info": {
   "codemirror_mode": {
    "name": "ipython",
    "version": 3
   },
   "file_extension": ".py",
   "mimetype": "text/x-python",
   "name": "python",
   "nbconvert_exporter": "python",
   "pygments_lexer": "ipython3",
   "version": "3.7.1"
  },
  "toc": {
   "base_numbering": 1,
   "nav_menu": {},
   "number_sections": true,
   "sideBar": true,
   "skip_h1_title": false,
   "title_cell": "Table of Contents",
   "title_sidebar": "Contents",
   "toc_cell": false,
   "toc_position": {},
   "toc_section_display": true,
   "toc_window_display": false
  }
 },
 "nbformat": 4,
 "nbformat_minor": 2
}
